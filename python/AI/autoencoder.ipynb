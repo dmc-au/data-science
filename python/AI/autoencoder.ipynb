{
    "cells": [
        {
            "attachments": {},
            "cell_type": "markdown",
            "metadata": {},
            "source": [
                "# Autoencoder\n",
                "\n",
                "This notebook implements an autoencoder and a variational autoencoder model in PyTorch.\n",
                "We will train the moels to reconstruct images from the MNIST data set.\n",
                "The sampling images of the two models will also be compared. \n",
                "\n"
            ]
        },
        {
            "cell_type": "code",
            "execution_count": 82,
            "metadata": {
                "vscode": {
                    "languageId": "python"
                }
            },
            "outputs": [],
            "source": [
                "import os\n",
                "import torch\n",
                "import torchvision\n",
                "from torch import nn\n",
                "from torch.autograd import Variable\n",
                "from torch.utils.data import DataLoader\n",
                "from torchvision import transforms\n",
                "from torchvision.datasets import MNIST\n",
                "from torchvision.utils import save_image\n",
                "import matplotlib.pyplot as plt\n",
                "import numpy as np\n",
                "import torch.nn.functional as F"
            ]
        },
        {
            "attachments": {},
            "cell_type": "markdown",
            "metadata": {},
            "source": [
                "## Hyperparameters"
            ]
        },
        {
            "cell_type": "code",
            "execution_count": 83,
            "metadata": {
                "vscode": {
                    "languageId": "python"
                }
            },
            "outputs": [],
            "source": [
                "num_epochs = 10\n",
                "batch_size = 128\n",
                "learning_rate = 1e-2\n",
                "latent_dim = 3"
            ]
        },
        {
            "attachments": {},
            "cell_type": "markdown",
            "metadata": {},
            "source": [
                "## Dataloader and utilites"
            ]
        },
        {
            "cell_type": "code",
            "execution_count": 84,
            "metadata": {
                "vscode": {
                    "languageId": "python"
                }
            },
            "outputs": [],
            "source": [
                "transform=transforms.Compose([\n",
                "    transforms.ToTensor(),\n",
                "    transforms.Normalize((0.1307,), (0.3081,))\n",
                "    ])\n",
                "\n",
                "dataset = MNIST(root='./data',train=True,download=True,transform=transform)\n",
                "dataloader = DataLoader(dataset, batch_size=batch_size, shuffle=True)\n",
                "\n",
                "\n",
                "def imshow(img):\n",
                "    npimg = img.numpy()\n",
                "    plt.imshow(np.transpose(npimg, (1, 2, 0)))\n",
                "    plt.show()"
            ]
        },
        {
            "attachments": {},
            "cell_type": "markdown",
            "metadata": {},
            "source": [
                "## Network Models\n"
            ]
        },
        {
            "cell_type": "code",
            "execution_count": 85,
            "metadata": {
                "vscode": {
                    "languageId": "python"
                }
            },
            "outputs": [],
            "source": [
                "class autoencoder(nn.Module):\n",
                "    def __init__(self):\n",
                "        super(autoencoder, self).__init__()\n",
                "        self.encoder = nn.Sequential(\n",
                "            nn.Linear(28 * 28, 128),\n",
                "            nn.ReLU(True),\n",
                "            nn.Linear(128, 64),\n",
                "            nn.ReLU(True), nn.Linear(64, 12), nn.ReLU(True), nn.Linear(12, latent_dim))\n",
                "        self.decoder = nn.Sequential(\n",
                "            nn.Linear(latent_dim, 12),\n",
                "            nn.ReLU(True),\n",
                "            nn.Linear(12, 64),\n",
                "            nn.ReLU(True),\n",
                "            nn.Linear(64, 128),\n",
                "            nn.ReLU(True), nn.Linear(128, 28 * 28), nn.Tanh())\n",
                "\n",
                "    def forward(self, x):\n",
                "        z = self.encoder(x)\n",
                "        x = self.decoder(z)\n",
                "        return x\n",
                "    \n",
                "    def decode(self, z):\n",
                "        x = self.decoder(z)\n",
                "        return x"
            ]
        },
        {
            "attachments": {},
            "cell_type": "markdown",
            "metadata": {},
            "source": [
                "## Training Loop"
            ]
        },
        {
            "cell_type": "code",
            "execution_count": 94,
            "metadata": {
                "vscode": {
                    "languageId": "python"
                }
            },
            "outputs": [
                {
                    "name": "stderr",
                    "output_type": "stream",
                    "text": [
                        "Clipping input data to the valid range for imshow with RGB data ([0..1] for floats or [0..255] for integers).\n"
                    ]
                },
                {
                    "name": "stdout",
                    "output_type": "stream",
                    "text": [
                        "epoch [1/1], loss:0.5176\n"
                    ]
                },
                {
                    "data": {
                        "image/png": "[encoded data removed]",
                        "text/plain": [
                            "<Figure size 432x288 with 1 Axes>"
                        ]
                    },
                    "metadata": {
                        "needs_background": "light"
                    },
                    "output_type": "display_data"
                },
                {
                    "name": "stdout",
                    "output_type": "stream",
                    "text": [
                        "Training finished\n"
                    ]
                }
            ],
            "source": [
                "ae = autoencoder()\n",
                "criterion = nn.MSELoss()\n",
                "optimizer = torch.optim.Adam(\n",
                "    ae.parameters(), lr=learning_rate, weight_decay=1e-5)\n",
                "\n",
                "for epoch in range(num_epochs):\n",
                "    for data in dataloader:\n",
                "        img, _ = data\n",
                "        img = img.view(img.size(0), -1)\n",
                "\n",
                "        # ===================forward=====================\n",
                "        output = ae(img)\n",
                "        loss = criterion(output, img)\n",
                "        \n",
                "        # ===================backward====================\n",
                "        optimizer.zero_grad()\n",
                "        loss.backward()\n",
                "        optimizer.step()\n",
                "        \n",
                "\n",
                "    print('epoch [{}/{}], loss:{:.4f}'\n",
                "          .format(epoch + 1, num_epochs, loss.item()))\n",
                "    \n",
                "\n",
                "    images = output.view(output.shape[0], 1,28, 28).detach()\n",
                "    imshow(torchvision.utils.make_grid(images[:16]))\n",
                "    \n",
                "print(\"Training finished\")"
            ]
        },
        {
            "attachments": {},
            "cell_type": "markdown",
            "metadata": {},
            "source": [
                "## Autoencoder as a Generative Model\n",
                "\n",
                "\n",
                "After training, you can see that the quality of the reconstruction from autoencoder is very good. However, as well as reproducing the training items, we also want to be able to use the decoder to generate new items which are of a similar \"style\" to the training items.\n",
                "\n",
                "In other words, we want to be able to choose latent variables z from a standard Normal distribution $p(z)$, feed these values of z to the decoder, and have it produce a new item x which is somehow similar to the training items. Since there the distribution of the latent variable of autoencoder is not forced to be close to Gaussian distribution, sampling from a Gaussian distribution and then feed $z$ to the decoder would not give us good generated images in terms of quality and variety. Lets see some examples."
            ]
        },
        {
            "cell_type": "code",
            "execution_count": 96,
            "metadata": {
                "vscode": {
                    "languageId": "python"
                }
            },
            "outputs": [
                {
                    "name": "stderr",
                    "output_type": "stream",
                    "text": [
                        "Clipping input data to the valid range for imshow with RGB data ([0..1] for floats or [0..255] for integers).\n"
                    ]
                },
                {
                    "data": {
                        "image/png": "[encoded data removed]",
                        "text/plain": [
                            "<Figure size 432x288 with 1 Axes>"
                        ]
                    },
                    "metadata": {
                        "needs_background": "light"
                    },
                    "output_type": "display_data"
                }
            ],
            "source": [
                "with torch.no_grad():\n",
                "    ae.eval()\n",
                "    noise = torch.randn(batch_size, latent_dim)\n",
                "    generated_images = ae.decode(noise)\n",
                "\n",
                "    images = generated_images.view(batch_size, 1,28, 28).detach()\n",
                "    imshow(torchvision.utils.make_grid(images[:16]))"
            ]
        },
        {
            "attachments": {},
            "cell_type": "markdown",
            "metadata": {},
            "source": [
                "## Variational Autoencoder\n",
                "To solve the aformentioned issue, Variational Autoencoder has been proposed. You can see more details in \"Auto-Encoding Variational Bayes\" (2014, D.P. Kingma et. al.)."
            ]
        },
        {
            "attachments": {},
            "cell_type": "markdown",
            "metadata": {},
            "source": [
                "## Model\n",
                "Unlike autoencoder which encode images into latent variables directly, VAE instead outputs a set of mean and variance to represent a Gaussian distribtuion. Thus, we need a special designed network architecture.  "
            ]
        },
        {
            "cell_type": "code",
            "execution_count": 89,
            "metadata": {
                "vscode": {
                    "languageId": "python"
                }
            },
            "outputs": [],
            "source": [
                "class VAE(nn.Module):\n",
                "    def __init__(self):\n",
                "        super(VAE, self).__init__()\n",
                "\n",
                "        self.fc1 = nn.Linear(784, 400)\n",
                "        self.fc21 = nn.Linear(400, latent_dim)\n",
                "        self.fc22 = nn.Linear(400, latent_dim)\n",
                "        self.fc3 = nn.Linear(latent_dim, 400)\n",
                "        self.fc4 = nn.Linear(400, 784)\n",
                "\n",
                "    def encode(self, x):\n",
                "        h1 = F.relu(self.fc1(x))\n",
                "        return self.fc21(h1), self.fc22(h1)\n",
                "\n",
                "    def reparametrize(self, mu, logvar):\n",
                "        std = logvar.mul(0.5).exp_()\n",
                "        if torch.cuda.is_available():\n",
                "            eps = torch.cuda.FloatTensor(std.size()).normal_()\n",
                "        else:\n",
                "            eps = torch.FloatTensor(std.size()).normal_()\n",
                "        eps = Variable(eps)\n",
                "        return eps.mul(std).add_(mu)\n",
                "\n",
                "    def decode(self, z):\n",
                "        h3 = F.relu(self.fc3(z))\n",
                "        return torch.sigmoid(self.fc4(h3))\n",
                "\n",
                "    def forward(self, x):\n",
                "        mu, logvar = self.encode(x)\n",
                "        z = self.reparametrize(mu, logvar)\n",
                "        return self.decode(z), mu, logvar\n"
            ]
        },
        {
            "attachments": {},
            "cell_type": "markdown",
            "metadata": {},
            "source": [
                "## Loss Function\n",
                "\n",
                "VAE also has a different loss function compared with autoencoder. Specifically, it not only minimize the reconstruction loss but also force the latent distribution to be close to a standard Gaussian using the KL-divergence."
            ]
        },
        {
            "cell_type": "code",
            "execution_count": 90,
            "metadata": {
                "vscode": {
                    "languageId": "python"
                }
            },
            "outputs": [],
            "source": [
                "reconstruction_function = nn.MSELoss(reduction='sum')\n",
                "\n",
                "\n",
                "def loss_function(recon_x, x, mu, logvar):\n",
                "    \"\"\"\n",
                "    recon_x: generating images\n",
                "    x: origin images\n",
                "    mu: latent mean\n",
                "    logvar: latent log variance\n",
                "    \"\"\"\n",
                "    BCE = reconstruction_function(recon_x, x)  # mse loss\n",
                "    # loss = 0.5 * sum(1 + log(sigma^2) - mu^2 - sigma^2)\n",
                "    KLD_element = mu.pow(2).add_(logvar.exp()).mul_(-1).add_(1).add_(logvar)\n",
                "    KLD = torch.sum(KLD_element).mul_(-0.5)\n",
                "    # KL divergence\n",
                "    return BCE + KLD\n",
                "\n"
            ]
        },
        {
            "attachments": {},
            "cell_type": "markdown",
            "metadata": {},
            "source": [
                "## Training Loop"
            ]
        },
        {
            "cell_type": "code",
            "execution_count": 97,
            "metadata": {
                "vscode": {
                    "languageId": "python"
                }
            },
            "outputs": [
                {
                    "name": "stdout",
                    "output_type": "stream",
                    "text": [
                        "epoch [1/1], loss:50169.0234\n"
                    ]
                },
                {
                    "data": {
                        "image/png": "[encoded data removed]",
                        "text/plain": [
                            "<Figure size 432x288 with 1 Axes>"
                        ]
                    },
                    "metadata": {
                        "needs_background": "light"
                    },
                    "output_type": "display_data"
                },
                {
                    "name": "stdout",
                    "output_type": "stream",
                    "text": [
                        "Finished Training\n"
                    ]
                }
            ],
            "source": [
                "# Create model\n",
                "vae = VAE()\n",
                "optimizer = torch.optim.Adam(vae.parameters(), lr=learning_rate)\n",
                "\n",
                "\n",
                "for epoch in range(num_epochs):\n",
                "    vae.train()\n",
                "    train_loss = 0\n",
                "    for batch_idx, data in enumerate(dataloader):\n",
                "        img, _ = data\n",
                "        img = img.view(img.size(0), -1)\n",
                "#         if torch.cuda.is_available():\n",
                "#             img = img.cuda()\n",
                "        optimizer.zero_grad()\n",
                "        recon_batch, mu, logvar = vae(img)\n",
                "        loss = loss_function(recon_batch, img, mu, logvar)\n",
                "        loss.backward()\n",
                "        train_loss += loss.item()\n",
                "        optimizer.step()\n",
                "\n",
                "    print('epoch [{}/{}], loss:{:.4f}'\n",
                "          .format(epoch + 1, num_epochs, loss.item()))\n",
                "    \n",
                "    images = recon_batch.view(recon_batch.shape[0], 1,28, 28).detach()\n",
                "    imshow(torchvision.utils.make_grid(images[:16]))\n",
                "\n",
                "print(\"Finished Training\")"
            ]
        },
        {
            "attachments": {},
            "cell_type": "markdown",
            "metadata": {},
            "source": [
                "## Sampling with VAE\n",
                "\n",
                "Let's check the sampling images of VAE, we also show the generated images of the autoencoder model for comparison. (You can rerun the following code cell for multiple times to see different samples)"
            ]
        },
        {
            "cell_type": "code",
            "execution_count": 98,
            "metadata": {
                "vscode": {
                    "languageId": "python"
                }
            },
            "outputs": [
                {
                    "name": "stdout",
                    "output_type": "stream",
                    "text": [
                        "Generated images from VAE:\n"
                    ]
                },
                {
                    "data": {
                        "image/png": "[encoded data removed]",
                        "text/plain": [
                            "<Figure size 432x288 with 1 Axes>"
                        ]
                    },
                    "metadata": {
                        "needs_background": "light"
                    },
                    "output_type": "display_data"
                },
                {
                    "name": "stderr",
                    "output_type": "stream",
                    "text": [
                        "Clipping input data to the valid range for imshow with RGB data ([0..1] for floats or [0..255] for integers).\n"
                    ]
                },
                {
                    "name": "stdout",
                    "output_type": "stream",
                    "text": [
                        "Generated images from autoencoder:\n"
                    ]
                },
                {
                    "data": {
                        "image/png": "[encoded data removed]",
                        "text/plain": [
                            "<Figure size 432x288 with 1 Axes>"
                        ]
                    },
                    "metadata": {
                        "needs_background": "light"
                    },
                    "output_type": "display_data"
                }
            ],
            "source": [
                "with torch.no_grad():\n",
                "    vae.eval()\n",
                "    ae.eval()\n",
                "    \n",
                "    noise = torch.randn(batch_size, latent_dim)\n",
                "    generated_images = vae.decode(noise)\n",
                "\n",
                "    \n",
                "    images = generated_images.view(generated_images.shape[0], 1,28, 28).detach()\n",
                "    \n",
                "    print(\"Generated images from VAE:\")\n",
                "    imshow(torchvision.utils.make_grid(images[:16]))\n",
                "    \n",
                "    generated_images = ae.decode(noise)\n",
                "\n",
                "    \n",
                "    images = generated_images.view(generated_images.shape[0], 1,28, 28).detach()\n",
                "    \n",
                "    print(\"Generated images from autoencoder:\")\n",
                "    imshow(torchvision.utils.make_grid(images[:16]))\n",
                "    "
            ]
        },
        {
            "attachments": {},
            "cell_type": "markdown",
            "metadata": {},
            "source": [
                "You can see now the diversity of the images is much better (the learned distribution is more close to the data distribution). There are many more generative models in the literature, you can check further readings in the week6 autoencoder slides."
            ]
        }
    ],
    "metadata": {
        "kernelspec": {
            "display_name": "Python 3 (ipykernel)",
            "language": "python",
            "name": "python3"
        }
    },
    "nbformat": 4,
    "nbformat_minor": 2
}
